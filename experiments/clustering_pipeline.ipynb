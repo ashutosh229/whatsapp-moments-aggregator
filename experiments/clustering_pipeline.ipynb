{
 "cells": [
  {
   "cell_type": "code",
   "execution_count": null,
   "id": "dbb5ff28",
   "metadata": {},
   "outputs": [],
   "source": [
    "import os\n",
    "import io\n",
    "import json\n",
    "import math\n",
    "from typing import Tuple, List, Dict, Any\n",
    "from datetime import datetime, timedelta\n",
    "\n",
    "import numpy as np\n",
    "import pandas as pd\n",
    "from pymongo import MongoClient\n",
    "from tqdm.auto import tqdm\n",
    "\n",
    "# NLP & embedding libs\n",
    "from sentence_transformers import SentenceTransformer\n",
    "import umap\n",
    "import hdbscan\n",
    "from sklearn.cluster import KMeans\n",
    "from sklearn.preprocessing import StandardScaler\n",
    "from sklearn.decomposition import PCA\n",
    "from sklearn.metrics import pairwise_distances_argmin_min\n",
    "\n",
    "# Image libs\n",
    "from PIL import Image\n",
    "import warnings"
   ]
  },
  {
   "cell_type": "code",
   "execution_count": null,
   "id": "e32708d5",
   "metadata": {},
   "outputs": [],
   "source": [
    "warnings.filterwarnings(\"ignore\", category=UserWarning)"
   ]
  },
  {
   "cell_type": "code",
   "execution_count": null,
   "id": "1d8fb866",
   "metadata": {},
   "outputs": [],
   "source": [
    "MONGO_URI = os.getenv(\"MONGO_URI\", \"mongodb://localhost:27017\")\n",
    "DB_NAME = os.getenv(\"DB_NAME\", \"life_db\")\n",
    "CHATS_COLLECTION = os.getenv(\"CHATS_COLLECTION\", \"chats\")\n",
    "MEDIA_COLLECTION = os.getenv(\"MEDIA_COLLECTION\", \"media\")"
   ]
  },
  {
   "cell_type": "code",
   "execution_count": null,
   "id": "724b9cc2",
   "metadata": {},
   "outputs": [],
   "source": [
    "OUTPUT_DIR = os.getenv(\"OUTPUT_DIR\", \"pipeline_outputs\")\n",
    "os.makedirs(OUTPUT_DIR, exist_ok=True)"
   ]
  },
  {
   "cell_type": "code",
   "execution_count": null,
   "id": "cee6f29c",
   "metadata": {},
   "outputs": [],
   "source": [
    "TEXT_EMBED_MODEL = os.getenv(\n",
    "    \"TEXT_EMBED_MODEL\", \"paraphrase-multilingual-MiniLM-L12-v2\"\n",
    ")\n",
    "CLIP_MODEL = os.getenv(\"CLIP_MODEL\", \"clip-ViT-B-32\")"
   ]
  },
  {
   "cell_type": "code",
   "execution_count": null,
   "id": "e8e8abbf",
   "metadata": {},
   "outputs": [],
   "source": []
  }
 ],
 "metadata": {
  "language_info": {
   "name": "python"
  }
 },
 "nbformat": 4,
 "nbformat_minor": 5
}
